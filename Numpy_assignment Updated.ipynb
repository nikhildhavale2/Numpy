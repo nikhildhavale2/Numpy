{
  "nbformat": 4,
  "nbformat_minor": 0,
  "metadata": {
    "colab": {
      "provenance": []
    },
    "kernelspec": {
      "name": "python3",
      "display_name": "Python 3"
    },
    "language_info": {
      "name": "python"
    }
  },
  "cells": [
    {
      "cell_type": "markdown",
      "source": [
        "#Q.1. Explain the purpose and advantages of NumPy in scientific computing and data analysis. How does it enhance Python's capabilities for numerical operations?\n",
        "\n"
      ],
      "metadata": {
        "id": "CLGnXDMLqm0d"
      }
    },
    {
      "cell_type": "markdown",
      "source": [
        "**Purpose of NumPy:**\n",
        "\n",
        "**1. Efficient Array Handling:** At its core, NumPy provides a powerful N-dimensional array object called ndarray. This array allows efficient storage and manipulation of large datasets, making it ideal for scientific computing tasks.\n",
        "\n",
        "**2. Mathematical Operations:** NumPy includes functions for performing a wide range of mathematical operations on arrays, such as linear algebra, random number generation, Fourier transforms, and statistics.\n",
        "\n",
        "**3. Interfacing with Other Libraries:** It forms the foundation for many other scientific libraries, such as SciPy, pandas, and Matplotlib. It also facilitates easy integration with other languages like C and Fortran for performance-critical operations.\n",
        "\n",
        "**Advantages of NumPy in Scientific Computing and Data Analysis:**\n",
        "\n",
        "**1. Performance and Speed:** NumPy is implemented in C, which makes array operations much faster than using Python’s built-in list types. This is especially important for large datasets or complex calculations, where Python's default performance can be a bottleneck.\n",
        "\n",
        "**2. Memory Efficiency:** NumPy arrays use much less memory compared to Python lists. This is because NumPy stores data in contiguous memory blocks, and arrays are of fixed data types, meaning it doesn’t need to store additional metadata for each element, as lists do.\n",
        "\n",
        "**3. Vectorized Operations:** One of the biggest advantages of NumPy is its ability to perform vectorized operations. Instead of writing loops, you can perform operations on entire arrays at once, which not only makes the code cleaner but also much faster.\n",
        "\n",
        "**4. Mathematical Functions and Tools:** NumPy includes a comprehensive set of mathematical functions that operate on arrays in an optimized manner, making it easy to perform complex numerical operations such as matrix multiplication, statistical operations, and solving linear equations.\n",
        "\n",
        "**5. Support for Multi-Dimensional Data:** It is highly efficient for working with multi-dimensional data, which is a common requirement in fields like data science, physics, and engineering. You can easily create and manipulate arrays of any dimension using NumPy.\n",
        "\n",
        "**6. Broadcasting:** NumPy’s broadcasting allows arithmetic operations between arrays of different shapes and sizes without needing to explicitly reshape them. This leads to simpler and more intuitive code.\n",
        "\n",
        "**7. Cross-Library Compatibility:** Many other Python libraries for scientific computing and data analysis (like pandas, TensorFlow, or PyTorch) are built on top of NumPy arrays, which makes NumPy a critical building block in the Python scientific computing ecosystem.\n"
      ],
      "metadata": {
        "id": "iYekXeDLsYeo"
      }
    },
    {
      "cell_type": "code",
      "execution_count": null,
      "metadata": {
        "id": "DtjqiyjRqUZZ"
      },
      "outputs": [],
      "source": [
        "import numpy as np\n",
        "# Without NumPy (looping over lists):\n",
        "result = [i**2 for i in range(1000)]\n",
        "\n",
        "# With NumPy:\n",
        "arr = np.arange(1000)\n",
        "result = arr**2"
      ]
    },
    {
      "cell_type": "markdown",
      "source": [
        "# Q. 2. Compare and contrast np.mean() and np.average() functions in NumPy. When would you use one over the other?\n",
        "\n",
        "Both np.mean() and np.average() are used to calculate the average of an array in NumPy, but they have some key differences in functionality and use cases. Here’s a comparison of the two:\n",
        "\n",
        "**1. np.mean()**\n",
        "\n",
        "**Purpose:** np.mean() calculates the arithmetic mean (average) of elements along a given axis or for the entire array if no axis is specified.\n",
        "\n",
        "**Syntax**\n",
        " np.mean(a, axis=None, dtype=None, out=None, keepdims=False)\n",
        "\n",
        "**Weights:** It does not support weighting of elements; every element contributes equally to the mean.\n",
        "\n",
        "**Return Type:** Returns the mean of the array elements. If the array is multi-dimensional, the result can be reduced along a specified axis.\n",
        "\n",
        "**Use Case:** Use np.mean() when you need to calculate a simple arithmetic mean without considering any weights."
      ],
      "metadata": {
        "id": "AgHwBctMqudI"
      }
    },
    {
      "cell_type": "code",
      "source": [
        "import numpy as np\n",
        "arr = np.array([1, 2, 3, 4])\n",
        "mean_value = np.mean(arr)\n",
        "print(mean_value)  # Output: 2.5"
      ],
      "metadata": {
        "colab": {
          "base_uri": "https://localhost:8080/"
        },
        "id": "FWCMFC0bq0PM",
        "outputId": "4106d693-e5fc-4454-a008-879fa033db36"
      },
      "execution_count": null,
      "outputs": [
        {
          "output_type": "stream",
          "name": "stdout",
          "text": [
            "2.5\n"
          ]
        }
      ]
    },
    {
      "cell_type": "markdown",
      "source": [
        "**2. np.average()**\n",
        "\n",
        "**Purpose:** np.average() computes the weighted average of elements in the array. If no weights are provided, it defaults to a simple arithmetic mean, similar to np.mean().\n",
        "\n",
        "**Syntax**\n",
        " np.average(a, axis=None, weights=None, returned=False)\n",
        "\n",
        "**Weights:** Supports an optional weights parameter, allowing you to compute a weighted average. If weights is provided, each element is multiplied by its corresponding weight before calculating the average.\n",
        "\n",
        "**Return Type:** Returns the weighted average. If returned=True, it returns a tuple of the weighted average and the sum of the weights.\n",
        "\n",
        "**Use Case:** Use np.average() when you need to compute a weighted average, i.e., when different elements in the array should contribute to the average with different weights."
      ],
      "metadata": {
        "id": "QHcyddemuvcV"
      }
    },
    {
      "cell_type": "code",
      "source": [
        "arr = np.array([1, 2, 3, 4])\n",
        "weights = np.array([0.1, 0.2, 0.4, 0.3])\n",
        "weighted_avg = np.average(arr, weights=weights)\n",
        "print(weighted_avg)  # Output: 2.9"
      ],
      "metadata": {
        "colab": {
          "base_uri": "https://localhost:8080/"
        },
        "id": "rcsKEny0vV7v",
        "outputId": "54d4b18b-e8b0-4f88-dd4e-45857f344038"
      },
      "execution_count": null,
      "outputs": [
        {
          "output_type": "stream",
          "name": "stdout",
          "text": [
            "2.9000000000000004\n"
          ]
        }
      ]
    },
    {
      "cell_type": "markdown",
      "source": [
        "# Q. 3. Describe the methods for reversing a NumPy array along different axes. Provide examples for ID and 2D arrays.\n",
        "\n",
        "Reversing a NumPy array means flipping its elements along a specific axis. There are several ways to reverse a NumPy array, depending on whether it's a 1D, 2D, or multi-dimensional array. Here's a breakdown of the methods:\n",
        "\n",
        "**1. Reversing a 1D Array**\n",
        "\n",
        "For a 1D array (a simple list of elements), you can reverse the elements using slicing or the np.flip() function.\n",
        "\n",
        "Method 1: Using Slicing ([::-1])\n",
        "This method reverses the order of elements in the array.\n",
        "\n",
        "Example:"
      ],
      "metadata": {
        "id": "ECwAeBPHq0yj"
      }
    },
    {
      "cell_type": "code",
      "source": [
        "import numpy as np\n",
        "\n",
        "arr_1d = np.array([1, 2, 3, 4, 5])\n",
        "reversed_arr_1d = arr_1d[::-1]\n",
        "\n",
        "print(reversed_arr_1d)\n",
        "# Output: [5 4 3 2 1]"
      ],
      "metadata": {
        "colab": {
          "base_uri": "https://localhost:8080/"
        },
        "id": "kd6RJQqvq5zU",
        "outputId": "c158b79a-537c-4990-e024-09f0051cd426"
      },
      "execution_count": null,
      "outputs": [
        {
          "output_type": "stream",
          "name": "stdout",
          "text": [
            "[5 4 3 2 1]\n"
          ]
        }
      ]
    },
    {
      "cell_type": "markdown",
      "source": [
        "Method 2: Using np.flip()\n",
        "The np.flip() function reverses the elements along a specified axis. For a 1D array, it will reverse the entire array.\n",
        "\n",
        "**Example:**"
      ],
      "metadata": {
        "id": "YZ7tyQqfwD21"
      }
    },
    {
      "cell_type": "code",
      "source": [
        "reversed_arr_1d = np.flip(arr_1d)\n",
        "\n",
        "print(reversed_arr_1d)\n",
        "# Output: [5 4 3 2 1]"
      ],
      "metadata": {
        "colab": {
          "base_uri": "https://localhost:8080/"
        },
        "id": "pdB5wImKwHwI",
        "outputId": "8efda4c4-b6de-4544-d069-5de5fadd8f98"
      },
      "execution_count": null,
      "outputs": [
        {
          "output_type": "stream",
          "name": "stdout",
          "text": [
            "[5 4 3 2 1]\n"
          ]
        }
      ]
    },
    {
      "cell_type": "markdown",
      "source": [
        "2. Reversing a 2D Array\n",
        "For a 2D array (matrix), you can reverse the elements along different axes (rows or columns) or both.\n",
        "\n",
        "**Method 1:** Using Slicing\n",
        "Reverse Rows: Reverse the order of the rows (axis 0).\n",
        "\n",
        "**Example:**"
      ],
      "metadata": {
        "id": "wLZLNSuqwO_F"
      }
    },
    {
      "cell_type": "code",
      "source": [
        "arr_2d = np.array([[1, 2, 3], [4, 5, 6], [7, 8, 9]])\n",
        "reversed_rows = arr_2d[::-1, :]\n",
        "\n",
        "print(reversed_rows)\n",
        "# Output:\n",
        "# [[7 8 9]\n",
        "#  [4 5 6]\n",
        "#  [1 2 3]]"
      ],
      "metadata": {
        "colab": {
          "base_uri": "https://localhost:8080/"
        },
        "id": "Noe7ET3ywTzF",
        "outputId": "4ac624f7-85f6-43ef-cd37-8f89a11de6c6"
      },
      "execution_count": null,
      "outputs": [
        {
          "output_type": "stream",
          "name": "stdout",
          "text": [
            "[[7 8 9]\n",
            " [4 5 6]\n",
            " [1 2 3]]\n"
          ]
        }
      ]
    },
    {
      "cell_type": "markdown",
      "source": [
        "Reverse Columns: Reverse the order of the columns (axis 1).\n",
        "\n",
        "**Example:**"
      ],
      "metadata": {
        "id": "AYgeWSbjwi3c"
      }
    },
    {
      "cell_type": "code",
      "source": [
        "reversed_columns = arr_2d[:, ::-1]\n",
        "\n",
        "print(reversed_columns)\n",
        "# Output:\n",
        "# [[3 2 1]\n",
        "#  [6 5 4]\n",
        "#  [9 8 7]]"
      ],
      "metadata": {
        "colab": {
          "base_uri": "https://localhost:8080/"
        },
        "id": "inl4Er48wmDN",
        "outputId": "0a3d812a-b7bf-46e2-e92f-d46c0b2e7b3e"
      },
      "execution_count": null,
      "outputs": [
        {
          "output_type": "stream",
          "name": "stdout",
          "text": [
            "[[3 2 1]\n",
            " [6 5 4]\n",
            " [9 8 7]]\n"
          ]
        }
      ]
    },
    {
      "cell_type": "markdown",
      "source": [
        "Reverse Both Rows and Columns: Reverse the array entirely by reversing both axes.\n",
        "\n",
        "**Example:**"
      ],
      "metadata": {
        "id": "8gIEu1hlwsIN"
      }
    },
    {
      "cell_type": "code",
      "source": [
        "reversed_both = arr_2d[::-1, ::-1]\n",
        "\n",
        "print(reversed_both)\n",
        "# Output:\n",
        "# [[9 8 7]\n",
        "#  [6 5 4]\n",
        "#  [3 2 1]]"
      ],
      "metadata": {
        "colab": {
          "base_uri": "https://localhost:8080/"
        },
        "id": "fIJjTVCowu5W",
        "outputId": "77c36e57-6015-4c98-d54d-fef206a91ef4"
      },
      "execution_count": null,
      "outputs": [
        {
          "output_type": "stream",
          "name": "stdout",
          "text": [
            "[[9 8 7]\n",
            " [6 5 4]\n",
            " [3 2 1]]\n"
          ]
        }
      ]
    },
    {
      "cell_type": "markdown",
      "source": [
        "#4. How can you determine the data type of elements in a NumPy array? Discuss the importance of data types in memory management and performance.\n",
        "\n",
        "To determine the data type of elements in a NumPy array, you use the .dtype attribute. This attribute returns an object that describes the data type of the array’s elements. Here’s how you can use it:\n",
        "\n",
        "Checking Data Type with .dtype\n",
        "\n",
        "**Example:**"
      ],
      "metadata": {
        "id": "4GlXHfiTq6HU"
      }
    },
    {
      "cell_type": "code",
      "source": [
        "import numpy as np\n",
        "\n",
        "arr_int = np.array([1, 2, 3, 4, 5])\n",
        "arr_float = np.array([1.0, 2.0, 3.0])\n",
        "\n",
        "print(arr_int.dtype)   # Output: int64 (or int32 depending on platform)\n",
        "print(arr_float.dtype) # Output: float64"
      ],
      "metadata": {
        "colab": {
          "base_uri": "https://localhost:8080/"
        },
        "id": "jueu2Jbbq-IT",
        "outputId": "705e369e-0aec-4399-c102-27e3ca917e2c"
      },
      "execution_count": null,
      "outputs": [
        {
          "output_type": "stream",
          "name": "stdout",
          "text": [
            "int64\n",
            "float64\n"
          ]
        }
      ]
    },
    {
      "cell_type": "markdown",
      "source": [
        "In this example:\n",
        "\n",
        "arr_int.dtype returns int64 (or int32, depending on the system), indicating that the array elements are 64-bit integers.\n",
        "arr_float.dtype returns float64, indicating that the elements are 64-bit floating-point numbers.\n",
        "Importance of Data Types in Memory Management and Performance\n",
        "Memory Efficiency:\n",
        "\n",
        "**Storage Requirements:** Different data types consume different amounts of memory. For example, an int32 takes up 4 bytes, while an int64 takes up 8 bytes. Using an appropriate data type can help minimize memory usage. If you don’t need the precision of float64, using float32 can save memory.\n",
        "\n",
        "**Array Size:** Larger data types can increase the overall size of the array, which may lead to higher memory consumption and potential performance issues.\n",
        "\n",
        "**Performance:**\n",
        "\n",
        "**Speed of Operations:** Operations on arrays with smaller data types can be faster because they involve less data to process. For example, integer operations on int32 arrays can be faster than on int64 arrays.\n",
        "\n",
        "**Vectorization:** NumPy leverages low-level optimizations and vectorized operations that are influenced by the data type. Choosing the right data type ensures that these optimizations are fully utilized.\n",
        "\n",
        "**Compatibility:**\n",
        "\n",
        "**Interfacing with Other Libraries:** Many scientific libraries (e.g., SciPy, TensorFlow) and file formats expect specific data types. Using the correct data type ensures compatibility and proper functioning when interfacing with other tools or saving data to files.\n",
        "Precision:\n",
        "\n",
        "**Numerical Precision:** The choice between different floating-point types (float32 vs. float64) affects the precision of calculations. Using float64 allows for more precision but requires more memory and computational resources. For tasks requiring high precision, float64 is preferred.\n",
        "Avoiding Errors:\n",
        "\n",
        "**Type Casting Issues:** Using the wrong data type might lead to unintended type casting or loss of information. For example, storing a very large integer in an int8 array will result in overflow and incorrect values."
      ],
      "metadata": {
        "id": "t4diXXrT78OD"
      }
    },
    {
      "cell_type": "markdown",
      "source": [
        "#5. Define ndarrays in NumPy and explain their key features. How do they differ from standard Python lists?\n",
        "\n",
        "In NumPy, ndarray stands for \"n-dimensional array\" and is the core data structure provided by the library. It is a powerful object for numerical computations, providing efficient storage and manipulation of large datasets. Here’s a detailed overview of ndarray and how it differs from standard Python lists:\n",
        "\n",
        "**Key Features of ndarray:**\n",
        "\n",
        "**1. N-Dimensional Array:**\n",
        "\n",
        "ndarray can handle arrays with any number of dimensions (1D, 2D, 3D, etc.). This flexibility allows for the representation of vectors, matrices, and higher-dimensional data structures.\n",
        "\n",
        "Example: A 2D ndarray can represent a matrix, while a 3D ndarray might represent a stack of matrices or a voxel grid.\n",
        "\n",
        "**2. Homogeneous Data Types:**\n",
        "\n",
        "All elements in a NumPy array are of the same data type. This uniformity allows for efficient computation and memory management.\n",
        "\n",
        "**Example:8** An ndarray of type float64 will store all elements as 64-bit floating-point numbers.\n",
        "\n",
        "**3. Contiguous Memory Storage:**\n",
        "\n",
        "ndarray objects are stored in contiguous blocks of memory. This storage structure enables fast access and efficient operations on large datasets.\n",
        "Example: Accessing elements in a NumPy array is generally faster than accessing elements in a Python list because of the way data is stored in memory.\n",
        "\n",
        "**4. Element-wise Operations:**\n",
        "\n",
        "NumPy supports element-wise operations, which means that you can perform arithmetic operations, comparisons, and other functions on entire arrays without the need for explicit loops.\n",
        "\n",
        "**Example:** You can add, subtract, multiply, or divide arrays directly.\n",
        "\n",
        "**5. Broadcasting:**\n",
        "\n",
        "Broadcasting is a powerful feature that allows NumPy to perform operations on arrays of different shapes. It automatically handles shape mismatches in a way that makes operations efficient and intuitive.\n",
        "\n",
        "**Example:** Adding a scalar to an array adds the scalar to each element of the array.\n",
        "\n",
        "**6. Vectorization:**\n",
        "\n",
        "NumPy operations are vectorized, which means they are implemented using low-level optimized code (often written in C) that avoids Python’s loop overhead. This results in faster computations.\n",
        "Example: Vectorized functions like np.sum() compute sums much faster than a Python loop doing the same task.\n",
        "\n",
        "**7. Advanced Indexing and Slicing:**\n",
        "\n",
        "NumPy arrays support advanced indexing and slicing, allowing for more complex data extraction and manipulation compared to standard Python lists.\n",
        "\n",
        "**Example:** You can use boolean masks or integer arrays to index elements.\n",
        "\n",
        "**8. Mathematical Functions:**\n",
        "\n",
        "NumPy provides a wide array of mathematical functions that operate on arrays, such as linear algebra operations, statistical functions, and Fourier transforms.\n",
        "\n",
        "**Example:** Functions like np.mean(), np.dot(), and np.fft.fft() are available for various mathematical operations.\n",
        "\n",
        "**Differences from Standard Python Lists:**\n",
        "\n",
        "**1. Performance:**\n",
        "\n",
        "**NumPy:** Arrays are implemented in C and optimized for performance, especially for large datasets and mathematical operations. Operations on NumPy arrays are faster and more efficient.\n",
        "\n",
        "**Python Lists:** Lists are slower for numerical operations because they are not optimized for such tasks and involve overhead for dynamic typing and storage.\n",
        "\n",
        "**2. Data Type:**\n",
        "\n",
        "**NumPy:** Arrays require all elements to be of the same data type, which enables more efficient memory usage and faster computation.\n",
        "\n",
        "**Python Lists:** Lists can contain elements of different types, which can lead to increased overhead and slower performance.\n",
        "\n",
        "**3. Memory Efficiency:**\n",
        "\n",
        "**NumPy:** Arrays use less memory due to their fixed data type and contiguous memory storage. This allows handling larger datasets with less memory consumption.\n",
        "\n",
        "**Python Lists:** Lists use more memory because they store additional information about the type of each element and can have more overhead due to dynamic resizing.\n",
        "\n",
        "**4. Operations and Functionality:**\n",
        "\n",
        "**NumPy:** Provides a rich set of functions and operations for numerical computing, including element-wise operations, broadcasting, and advanced indexing.\n",
        "\n",
        "**Python Lists:** Support basic operations and methods like appending and slicing but lack specialized functions for numerical tasks.\n",
        "\n",
        "**5. Dimensionality:**\n",
        "\n",
        "**NumPy:** Supports multi-dimensional arrays, allowing complex data structures like matrices and tensors to be easily handled.\n",
        "\n",
        "**Python Lists:** Primarily one-dimensional; multi-dimensional data structures are usually represented as lists of lists, which can be less efficient and more cumbersome to work with."
      ],
      "metadata": {
        "id": "bGOusRLNq-gE"
      }
    },
    {
      "cell_type": "markdown",
      "source": [
        "#6. Analyze the performance benefits of NumPy arrays over Python lists for large-scale numerical operations.\n",
        "\n",
        "NumPy arrays offer significant performance benefits over Python lists, especially for large-scale numerical operations. Here’s a detailed analysis of these benefits:\n",
        "\n",
        "**Performance Benefits of NumPy Arrays**\n",
        "\n",
        "**1. Contiguous Memory Allocation:**\n",
        "\n",
        "**NumPy:** Arrays are stored in contiguous blocks of memory, which allows for efficient access and manipulation of data. This layout minimizes cache misses and maximizes the speed of memory operations.\n",
        "\n",
        "**Python Lists:** Lists are arrays of pointers to objects, leading to non-contiguous memory allocation. This can result in slower data access and higher overhead.\n",
        "\n",
        "**2. Vectorization:**\n",
        "\n",
        "**NumPy:** Supports vectorized operations, which means that operations on entire arrays are performed using low-level, optimized code. This avoids the overhead of Python’s dynamic typing and loop execution.\n",
        "\n",
        "**Python Lists:** Operations typically require explicit loops, which are slower due to Python’s interpretive nature and the overhead of dynamically typing and handling each element.\n",
        "\n",
        "**Example:**"
      ],
      "metadata": {
        "id": "0WnMSqd9rDdM"
      }
    },
    {
      "cell_type": "code",
      "source": [
        "import numpy as np\n",
        "import time\n",
        "\n",
        "# NumPy operation\n",
        "arr = np.arange(1000000)\n",
        "start_time = time.time()\n",
        "arr_squared = arr ** 2\n",
        "print(\"NumPy time:\", time.time() - start_time)\n",
        "\n",
        "# Python list operation\n",
        "lst = list(range(1000000))\n",
        "start_time = time.time()\n",
        "lst_squared = [x ** 2 for x in lst]\n",
        "print(\"Python list time:\", time.time() - start_time)"
      ],
      "metadata": {
        "colab": {
          "base_uri": "https://localhost:8080/"
        },
        "id": "Sj3iKd0UrGp0",
        "outputId": "b0bb226a-fdd4-4c38-d8dc-4113272fc406"
      },
      "execution_count": null,
      "outputs": [
        {
          "output_type": "stream",
          "name": "stdout",
          "text": [
            "NumPy time: 0.006426095962524414\n",
            "Python list time: 0.3508913516998291\n"
          ]
        }
      ]
    },
    {
      "cell_type": "markdown",
      "source": [
        "In this example, the NumPy operation is likely to be significantly faster than the Python list operation due to vectorization.\n",
        "\n",
        "**3. Broadcasting:**\n",
        "\n",
        "**NumPy:** Allows for efficient operations on arrays of different shapes without the need for explicit looping. Broadcasting automatically adjusts the shapes of arrays for element-wise operations.\n",
        "\n",
        "**Python Lists:** Broadcasting is not natively supported, and operations involving lists of different shapes would require manual implementation, which can be cumbersome and inefficient.\n",
        "\n",
        "**Example:**"
      ],
      "metadata": {
        "id": "DtSxiVX_BnoM"
      }
    },
    {
      "cell_type": "code",
      "source": [
        "import numpy as np\n",
        "\n",
        "arr = np.array([[1, 2, 3], [4, 5, 6]])\n",
        "scalar = 2\n",
        "broadcasted_arr = arr + scalar"
      ],
      "metadata": {
        "id": "I0b-NDZGB03a"
      },
      "execution_count": null,
      "outputs": []
    },
    {
      "cell_type": "markdown",
      "source": [
        "**4. Optimized Mathematical Functions:**\n",
        "\n",
        "**NumPy:** Provides a wide range of optimized mathematical functions (e.g., trigonometric functions, logarithms) that are implemented in C and can be executed very efficiently.\n",
        "\n",
        "**Python Lists:** Lack built-in support for these operations, and similar functionality would require manual implementation or use of slower methods from other libraries.\n",
        "\n",
        "**5. Memory Efficiency:**\n",
        "\n",
        "**NumPy:** Uses fixed-size data types (e.g., int32, float64), which are more memory-efficient than Python lists. Arrays are stored in a compact format, which reduces memory overhead.\n",
        "\n",
        "**Python Lists:** Store elements as references to objects, which introduces additional memory overhead for each element due to metadata and dynamic typing.\n",
        "\n",
        "**6. Parallel Processing:**\n",
        "\n",
        "**NumPy:** Operations can be parallelized using optimized libraries like BLAS and LAPACK, which leverage multi-core processors and SIMD instructions.\n",
        "\n",
        "**Python Lists:** Do not support parallel processing natively. Operations on lists are inherently sequential and cannot benefit from parallelism without explicit parallelization strategies.\n",
        "\n",
        "**7. Ease of Integration with Other Libraries:**\n",
        "\n",
        "**NumPy:** Many scientific and data analysis libraries (e.g., SciPy, pandas, TensorFlow) are built on top of NumPy arrays, ensuring efficient interoperability and consistent performance across different tools.\n",
        "\n",
        "**Python Lists:** Integration with numerical libraries typically requires conversion to NumPy arrays, adding overhead and complexity."
      ],
      "metadata": {
        "id": "pjHw1pnsB7c1"
      }
    },
    {
      "cell_type": "markdown",
      "source": [
        "#7. Compare vstack() and hstack() functions in NumPy. Provide examples demonstrating their usage and output\n",
        "\n",
        "The vstack() and hstack() functions in NumPy are used to stack arrays vertically and horizontally, respectively. These functions help in combining multiple arrays into one by aligning them along specific axes. Let’s explore their differences, usage, and outputs with examples.\n",
        "\n",
        "**1. np.vstack():** Vertical Stacking\n",
        "\n",
        "**Purpose:** Stacks arrays along the vertical axis (i.e., row-wise). The input arrays are stacked on top of each other.\n",
        "\n",
        "**Requirements:** All arrays must have the same number of columns.\n",
        "**Example:**"
      ],
      "metadata": {
        "id": "4FA_JuMQrjFt"
      }
    },
    {
      "cell_type": "code",
      "source": [
        "import numpy as np\n",
        "\n",
        "# Create two 1D arrays\n",
        "arr1 = np.array([1, 2, 3])\n",
        "arr2 = np.array([4, 5, 6])\n",
        "\n",
        "# Stack vertically\n",
        "result_vstack = np.vstack((arr1, arr2))\n",
        "\n",
        "print(result_vstack)"
      ],
      "metadata": {
        "colab": {
          "base_uri": "https://localhost:8080/"
        },
        "id": "eMC8G07rrkMz",
        "outputId": "eb9d1580-2b38-4045-b870-02b6261c3a03"
      },
      "execution_count": null,
      "outputs": [
        {
          "output_type": "stream",
          "name": "stdout",
          "text": [
            "[[1 2 3]\n",
            " [4 5 6]]\n"
          ]
        }
      ]
    },
    {
      "cell_type": "markdown",
      "source": [
        "The two 1D arrays are stacked to form a 2D array where each input array becomes a row.\n",
        "\n",
        "**Example with 2D Arrays:**"
      ],
      "metadata": {
        "id": "6cmbpjHvDIwm"
      }
    },
    {
      "cell_type": "code",
      "source": [
        "arr1 = np.array([[1, 2, 3], [4, 5, 6]])\n",
        "arr2 = np.array([[7, 8, 9]])\n",
        "\n",
        "# Vertical stacking\n",
        "result_vstack_2d = np.vstack((arr1, arr2))\n",
        "\n",
        "print(result_vstack_2d)"
      ],
      "metadata": {
        "colab": {
          "base_uri": "https://localhost:8080/"
        },
        "id": "4UJH8F93DRGb",
        "outputId": "d48830a1-fbdf-4986-ed38-f7aa7f99d2c7"
      },
      "execution_count": null,
      "outputs": [
        {
          "output_type": "stream",
          "name": "stdout",
          "text": [
            "[[1 2 3]\n",
            " [4 5 6]\n",
            " [7 8 9]]\n"
          ]
        }
      ]
    },
    {
      "cell_type": "markdown",
      "source": [
        "In this case, arr1 and arr2 are 2D arrays, and vstack() appends arr2 as a new row beneath arr1."
      ],
      "metadata": {
        "id": "1C1aD8Y3DVwx"
      }
    },
    {
      "cell_type": "markdown",
      "source": [
        "**2. np.hstack():** Horizontal Stacking\n",
        "\n",
        "**Purpose:** Stacks arrays along the horizontal axis (i.e., column-wise). The input arrays are placed side by side.\n",
        "\n",
        "**Requirements:** All arrays must have the same number of rows.\n",
        "\n",
        "**Example:**"
      ],
      "metadata": {
        "id": "fX-RUWLpDZTC"
      }
    },
    {
      "cell_type": "code",
      "source": [
        "import numpy as np\n",
        "\n",
        "# Create two 1D arrays\n",
        "arr1 = np.array([1, 2, 3])\n",
        "arr2 = np.array([4, 5, 6])\n",
        "\n",
        "# Stack horizontally\n",
        "result_hstack = np.hstack((arr1, arr2))\n",
        "\n",
        "print(result_hstack)"
      ],
      "metadata": {
        "colab": {
          "base_uri": "https://localhost:8080/"
        },
        "id": "No7M3KdqDkMu",
        "outputId": "b043f1a1-84f2-4c69-99c9-79bed36b6e69"
      },
      "execution_count": null,
      "outputs": [
        {
          "output_type": "stream",
          "name": "stdout",
          "text": [
            "[1 2 3 4 5 6]\n"
          ]
        }
      ]
    },
    {
      "cell_type": "markdown",
      "source": [
        "Here, the two 1D arrays are combined into a single 1D array by appending arr2 to arr1.\n",
        "\n",
        "**Example with 2D Arrays:**"
      ],
      "metadata": {
        "id": "pkaRfMHxDrCk"
      }
    },
    {
      "cell_type": "code",
      "source": [
        "arr1 = np.array([[1, 2, 3], [4, 5, 6]])\n",
        "arr2 = np.array([[7, 8, 9], [10, 11, 12]])\n",
        "\n",
        "# Horizontal stacking\n",
        "result_hstack_2d = np.hstack((arr1, arr2))\n",
        "\n",
        "print(result_hstack_2d)"
      ],
      "metadata": {
        "colab": {
          "base_uri": "https://localhost:8080/"
        },
        "id": "LEAVva_pDujO",
        "outputId": "752230d2-0a2f-4b2c-f9be-9fda125b60c7"
      },
      "execution_count": null,
      "outputs": [
        {
          "output_type": "stream",
          "name": "stdout",
          "text": [
            "[[ 1  2  3  7  8  9]\n",
            " [ 4  5  6 10 11 12]]\n"
          ]
        }
      ]
    },
    {
      "cell_type": "markdown",
      "source": [
        "Here, arr1 and arr2 are stacked horizontally, forming a new array by placing the columns of arr2 to the right of arr1."
      ],
      "metadata": {
        "id": "WUVKQ0EADxmV"
      }
    },
    {
      "cell_type": "markdown",
      "source": [
        "#8. Explain the differences between flipir() and flipud() methods in NurnPy, including their effects on various array dimensions.\n",
        "\n",
        "In NumPy, the flipud() and fliplr() methods are used to reverse the order of elements in a 2D array, but they operate on different axes:\n",
        "\n",
        "**1. np.flipud() (Flip Up-Down):**\n",
        "\n",
        "**Functionality:** It reverses the array along the vertical axis, effectively flipping the array \"upside down.\"\n",
        "\n",
        "**Effect:** Rows are reversed, meaning the last row becomes the first row, and the first row becomes the last.\n",
        "\n",
        "**Applicable on:** Any array with at least one dimension (including 1D and higher-dimensional arrays). For 1D arrays, it behaves like reversing the array.\n",
        "\n",
        "**Example (2D array):**"
      ],
      "metadata": {
        "id": "_D3eGZUtrkp0"
      }
    },
    {
      "cell_type": "code",
      "source": [
        "import numpy as np\n",
        "\n",
        "arr = np.array([[1, 2, 3],\n",
        "                [4, 5, 6],\n",
        "                [7, 8, 9]])\n",
        "\n",
        "result_flipud = np.flipud(arr)\n",
        "print(result_flipud)"
      ],
      "metadata": {
        "colab": {
          "base_uri": "https://localhost:8080/"
        },
        "id": "vQE6B3G9rpa7",
        "outputId": "064d2f3b-2496-48d6-d9e9-0378fb474d2a"
      },
      "execution_count": null,
      "outputs": [
        {
          "output_type": "stream",
          "name": "stdout",
          "text": [
            "[[7 8 9]\n",
            " [4 5 6]\n",
            " [1 2 3]]\n"
          ]
        }
      ]
    },
    {
      "cell_type": "markdown",
      "source": [
        "The rows are flipped vertically, with the top row becoming the bottom row.\n",
        "\n",
        "**2. np.fliplr() (Flip Left-Right):**\n",
        "\n",
        "**Functionality:** It reverses the array along the horizontal axis, flipping the array \"left to right.\"\n",
        "\n",
        "**Effect:** Columns are reversed, meaning the last column becomes the first, and the first column becomes the last.\n",
        "\n",
        "**Applicable on:** Only 2D arrays or higher. For 1D arrays, it raises an error since flipping left-right doesn't apply to a 1D structure.\n",
        "\n",
        "**Example (2D array):**"
      ],
      "metadata": {
        "id": "Xn3JOAZpESH3"
      }
    },
    {
      "cell_type": "code",
      "source": [
        "arr = np.array([[1, 2, 3],\n",
        "                [4, 5, 6],\n",
        "                [7, 8, 9]])\n",
        "\n",
        "result_fliplr = np.fliplr(arr)\n",
        "print(result_fliplr)"
      ],
      "metadata": {
        "colab": {
          "base_uri": "https://localhost:8080/"
        },
        "id": "mW7j63cZEhwH",
        "outputId": "61ea42e7-43f8-4941-9816-d29905ddf5ca"
      },
      "execution_count": null,
      "outputs": [
        {
          "output_type": "stream",
          "name": "stdout",
          "text": [
            "[[3 2 1]\n",
            " [6 5 4]\n",
            " [9 8 7]]\n"
          ]
        }
      ]
    },
    {
      "cell_type": "markdown",
      "source": [
        "The columns are flipped horizontally, with the leftmost column becoming the rightmost column."
      ],
      "metadata": {
        "id": "qkJeh5xUEk_b"
      }
    },
    {
      "cell_type": "markdown",
      "source": [
        "#9. Discuss the functionality of the array_split() method in NumPy, How does it handle uneven splits?\n",
        "\n",
        "The array_split() method in NumPy is used to split an array into multiple sub-arrays. It is similar to the split() method, but it handles uneven splits more flexibly, making it very useful when the number of sections does not divide the array evenly.\n",
        "\n",
        "**Functionality of array_split()**\n",
        "\n",
        "**Purpose:** To split an array into a specified number of sub-arrays. Unlike split(), it can handle uneven splits by adjusting the size of the resulting sub-arrays when the array cannot be divided equally.\n",
        "\n",
        "**Syntax:** numpy.array_split(ary, indices_or_sections, axis=0)\n",
        "\n",
        "**Parameters:**\n",
        "\n",
        "**1. ary:** The input array to be split.\n",
        "\n",
        "**2. indices_or_sections:**\n",
        "The number of equal or unequal sections to split the array into. This can be an integer (for equal sections) or a list of indices (for specific positions to split the array).\n",
        "**3. axis:** The axis along which the split should be performed (default is 0, i.e., row-wise split for 2D arrays).\n",
        "\n",
        "**Handling Uneven Splits:**\n",
        "When the array length is not divisible evenly by the number of splits:\n",
        "\n",
        "**array_split()** ensures that the first few sub-arrays have an extra element compared to the later sub-arrays. This approach balances the sub-array sizes as evenly as possible.\n",
        "\n",
        "**Examples:**\n",
        "\n",
        "**1. Even Split:**"
      ],
      "metadata": {
        "id": "qJ8JnfaNrp8e"
      }
    },
    {
      "cell_type": "code",
      "source": [
        "import numpy as np\n",
        "\n",
        "arr = np.array([1, 2, 3, 4, 5, 6])\n",
        "\n",
        "# Split the array into 3 equal parts\n",
        "result = np.array_split(arr, 3)\n",
        "for sub_arr in result:\n",
        "    print(sub_arr)"
      ],
      "metadata": {
        "colab": {
          "base_uri": "https://localhost:8080/"
        },
        "id": "UdRs1idGruZd",
        "outputId": "936816ee-ff91-4e3d-b891-64a3674e7f48"
      },
      "execution_count": null,
      "outputs": [
        {
          "output_type": "stream",
          "name": "stdout",
          "text": [
            "[1 2]\n",
            "[3 4]\n",
            "[5 6]\n"
          ]
        }
      ]
    },
    {
      "cell_type": "markdown",
      "source": [
        "Since the array length is evenly divisible by 3, it splits into sub-arrays of equal size.\n",
        "\n",
        "**2. Uneven Split:**"
      ],
      "metadata": {
        "id": "fqvcQ66XFpdO"
      }
    },
    {
      "cell_type": "code",
      "source": [
        "arr = np.array([1, 2, 3, 4, 5])\n",
        "\n",
        "# Split the array into 3 parts (uneven)\n",
        "result = np.array_split(arr, 3)\n",
        "for sub_arr in result:\n",
        "    print(sub_arr)"
      ],
      "metadata": {
        "colab": {
          "base_uri": "https://localhost:8080/"
        },
        "id": "Sjm1UrjEFuC4",
        "outputId": "213c830e-c459-497f-f25b-3ebf9dedef4a"
      },
      "execution_count": null,
      "outputs": [
        {
          "output_type": "stream",
          "name": "stdout",
          "text": [
            "[1 2]\n",
            "[3 4]\n",
            "[5]\n"
          ]
        }
      ]
    },
    {
      "cell_type": "markdown",
      "source": [
        "The array length (5) is not evenly divisible by 3. Therefore, the first two sub-arrays get 2 elements each, while the last sub-array gets 1 element.\n",
        "\n",
        "**3. Splitting Along a Specific Axis (2D Array):**"
      ],
      "metadata": {
        "id": "cOVyVN6TFxo8"
      }
    },
    {
      "cell_type": "code",
      "source": [
        "arr_2d = np.array([[1, 2, 3], [4, 5, 6], [7, 8, 9]])\n",
        "\n",
        "# Split the 2D array into 2 parts along axis 0 (row-wise)\n",
        "result = np.array_split(arr_2d, 2, axis=0)\n",
        "for sub_arr in result:\n",
        "    print(sub_arr)"
      ],
      "metadata": {
        "colab": {
          "base_uri": "https://localhost:8080/"
        },
        "id": "RCUP5nfeF5cd",
        "outputId": "036db5dd-6800-4491-e181-3cfb7f609ca8"
      },
      "execution_count": null,
      "outputs": [
        {
          "output_type": "stream",
          "name": "stdout",
          "text": [
            "[[1 2 3]\n",
            " [4 5 6]]\n",
            "[[7 8 9]]\n"
          ]
        }
      ]
    },
    {
      "cell_type": "markdown",
      "source": [
        "The 2D array is split into 2 parts along the rows (axis 0). Since there are 3 rows, the first sub-array gets 2 rows, and the second sub-array gets 1 row.\n",
        "\n",
        "**4. Specifying Split Indices:**\n",
        "\n",
        "You can also specify the exact indices where you want the split to occur:"
      ],
      "metadata": {
        "id": "BXPi0EhOF9IG"
      }
    },
    {
      "cell_type": "code",
      "source": [
        "arr = np.array([1, 2, 3, 4, 5, 6, 7])\n",
        "\n",
        "# Split at specified positions\n",
        "result = np.array_split(arr, [2, 5])\n",
        "for sub_arr in result:\n",
        "    print(sub_arr)"
      ],
      "metadata": {
        "colab": {
          "base_uri": "https://localhost:8080/"
        },
        "id": "v2C7lL9tGDHG",
        "outputId": "025a52a8-d1ef-4e55-fa43-a10939c07fdc"
      },
      "execution_count": null,
      "outputs": [
        {
          "output_type": "stream",
          "name": "stdout",
          "text": [
            "[1 2]\n",
            "[3 4 5]\n",
            "[6 7]\n"
          ]
        }
      ]
    },
    {
      "cell_type": "markdown",
      "source": [
        "The array is split into three sub-arrays: one ending at index 2, one ending at index 5, and the remaining elements form the last sub-array."
      ],
      "metadata": {
        "id": "kQrNonQ5GGYS"
      }
    },
    {
      "cell_type": "markdown",
      "source": [
        "#10. Explain the concepts of vectorization and broadcasting in NumPy. How do they contribute to efficient array operations?\n",
        "\n",
        "Vectorization and broadcasting are two powerful concepts in NumPy that significantly contribute to the efficiency and speed of array operations by avoiding explicit loops and enabling element-wise operations across arrays of different shapes. Let’s break them down and explain their importance in numerical computing.\n",
        "\n",
        "**1. Vectorization in NumPy\n",
        "Concept:**\n",
        "\n",
        "Vectorization refers to the process of performing operations on entire arrays (or large chunks of data) at once, rather than iterating through individual elements in a loop. NumPy leverages this by executing operations using low-level C code, allowing it to perform computations much faster than pure Python loops.\n",
        "\n",
        "**Without vectorization (using a Python loop):**\n"
      ],
      "metadata": {
        "id": "WUE5i6Pkru6M"
      }
    },
    {
      "cell_type": "code",
      "source": [
        "import numpy as np\n",
        "\n",
        "arr = np.array([1, 2, 3, 4, 5])\n",
        "result = []\n",
        "\n",
        "# Element-wise squaring using a loop\n",
        "for i in arr:\n",
        "    result.append(i ** 2)\n",
        "print(result)"
      ],
      "metadata": {
        "colab": {
          "base_uri": "https://localhost:8080/"
        },
        "id": "dMlykb1brx4l",
        "outputId": "1ab87642-583c-419b-a788-7f9cd8626702"
      },
      "execution_count": null,
      "outputs": [
        {
          "output_type": "stream",
          "name": "stdout",
          "text": [
            "[1, 4, 9, 16, 25]\n"
          ]
        }
      ]
    },
    {
      "cell_type": "markdown",
      "source": [
        "**With vectorization:**"
      ],
      "metadata": {
        "id": "DP1mC23cGqH2"
      }
    },
    {
      "cell_type": "code",
      "source": [
        "result = arr ** 2\n",
        "print(result)"
      ],
      "metadata": {
        "colab": {
          "base_uri": "https://localhost:8080/"
        },
        "id": "SiS7_vhpGjJU",
        "outputId": "65e497c6-dc66-4a8d-fb2f-6bf7fba1e10c"
      },
      "execution_count": null,
      "outputs": [
        {
          "output_type": "stream",
          "name": "stdout",
          "text": [
            "[ 1  4  9 16 25]\n"
          ]
        }
      ]
    },
    {
      "cell_type": "markdown",
      "source": [
        "**Performance benefit:**\n",
        "\n",
        "The vectorized version is much faster because NumPy operations are implemented in optimized C code that avoids the overhead of Python loops and dynamic typing. This leads to massive speed improvements, especially for large arrays.\n",
        "\n",
        "**Example:**"
      ],
      "metadata": {
        "id": "X-wF40ACGzv_"
      }
    },
    {
      "cell_type": "code",
      "source": [
        "import numpy as np\n",
        "import time\n",
        "\n",
        "arr = np.arange(1000000)\n",
        "\n",
        "# Using a Python loop (no vectorization)\n",
        "start = time.time()\n",
        "result = [x ** 2 for x in arr]\n",
        "print(\"Loop time:\", time.time() - start)\n",
        "\n",
        "# Using NumPy vectorization\n",
        "start = time.time()\n",
        "result = arr ** 2\n",
        "print(\"Vectorization time:\", time.time() - start)"
      ],
      "metadata": {
        "colab": {
          "base_uri": "https://localhost:8080/"
        },
        "id": "y-q1k90zGttE",
        "outputId": "898dd2bb-eb96-4e52-960e-f36408b964f6"
      },
      "execution_count": null,
      "outputs": [
        {
          "output_type": "stream",
          "name": "stdout",
          "text": [
            "Loop time: 0.36453747749328613\n",
            "Vectorization time: 0.01730656623840332\n"
          ]
        }
      ]
    },
    {
      "cell_type": "markdown",
      "source": [
        "The vectorized version will be significantly faster.\n",
        "\n",
        "**Key Benefits of Vectorization:**\n",
        "\n",
        "**Speed:** Vectorized operations are highly optimized and execute much faster than looping over elements.\n",
        "Simplicity: Code becomes more concise and readable.\n",
        "\n",
        "**Memory efficiency:** By avoiding intermediate steps and loops, vectorized operations use memory more efficiently."
      ],
      "metadata": {
        "id": "9HtoOWoqG9xO"
      }
    },
    {
      "cell_type": "markdown",
      "source": [
        "**2. Broadcasting in NumPy**\n",
        "\n",
        "**Concept:**\n",
        "\n",
        "Broadcasting allows NumPy to perform element-wise operations on arrays of different shapes without explicitly replicating data. It automatically expands the dimensions of smaller arrays to match the dimensions of larger ones so that the operation can be performed element-wise.\n",
        "\n",
        "**Basic idea:** When operating on arrays of different shapes, NumPy automatically broadcasts the smaller array across the larger one. This avoids the need for creating large, memory-intensive copies of arrays.\n",
        "\n",
        "**Broadcasting Rules:**\n",
        "1. If the arrays have different numbers of dimensions, the smaller array is padded with ones on its left (front).\n",
        "2. If the sizes of the arrays differ along any dimension, the array with size 1 in that dimension is stretched to match the size of the larger array.\n",
        "3. If sizes differ in a non-compatible way (not 1 or the same size), broadcasting fails.\n",
        "\n",
        "**Example 1: Broadcasting a scalar**"
      ],
      "metadata": {
        "id": "VJY-jShnHVKu"
      }
    },
    {
      "cell_type": "code",
      "source": [
        "import numpy as np\n",
        "\n",
        "arr = np.array([1, 2, 3])\n",
        "result = arr + 10  # Scalar is broadcast to match the shape of `arr`\n",
        "print(result)"
      ],
      "metadata": {
        "colab": {
          "base_uri": "https://localhost:8080/"
        },
        "id": "jKXvi6qjG6dk",
        "outputId": "cb9cb045-84d8-4fc7-9eca-9a6ce60a2720"
      },
      "execution_count": null,
      "outputs": [
        {
          "output_type": "stream",
          "name": "stdout",
          "text": [
            "[11 12 13]\n"
          ]
        }
      ]
    },
    {
      "cell_type": "markdown",
      "source": [
        "Here, the scalar 10 is broadcast to match the shape of the array [1, 2, 3], allowing element-wise addition.\n",
        "\n",
        "**Example 2: Broadcasting a 1D array to a 2D array**"
      ],
      "metadata": {
        "id": "saEut5YDH26U"
      }
    },
    {
      "cell_type": "code",
      "source": [
        "arr2d = np.array([[1, 2, 3], [4, 5, 6]])\n",
        "arr1d = np.array([10, 20, 30])\n",
        "\n",
        "result = arr2d + arr1d\n",
        "print(result)"
      ],
      "metadata": {
        "colab": {
          "base_uri": "https://localhost:8080/"
        },
        "id": "Hhx9wkFDH0ZF",
        "outputId": "c240d1ce-a21c-4aa5-c388-767ea97d18b7"
      },
      "execution_count": null,
      "outputs": [
        {
          "output_type": "stream",
          "name": "stdout",
          "text": [
            "[[11 22 33]\n",
            " [14 25 36]]\n"
          ]
        }
      ]
    },
    {
      "cell_type": "markdown",
      "source": [
        "In this example, the 1D array arr1d with shape (3,) is broadcast across the rows of the 2D array arr2d, allowing element-wise addition without explicitly replicating the smaller array.\n",
        "\n",
        "**Broadcasting Example with Different Shapes:**"
      ],
      "metadata": {
        "id": "aFP0R_tQH9c9"
      }
    },
    {
      "cell_type": "code",
      "source": [
        "arr2d = np.array([[1], [2], [3]])\n",
        "arr1d = np.array([10, 20, 30])\n",
        "\n",
        "result = arr2d + arr1d\n",
        "print(result)"
      ],
      "metadata": {
        "colab": {
          "base_uri": "https://localhost:8080/"
        },
        "id": "rfXqU_mlH7Jd",
        "outputId": "409a46ab-802e-42d7-df7a-21e171d1d7c8"
      },
      "execution_count": null,
      "outputs": [
        {
          "output_type": "stream",
          "name": "stdout",
          "text": [
            "[[11 21 31]\n",
            " [12 22 32]\n",
            " [13 23 33]]\n"
          ]
        }
      ]
    },
    {
      "cell_type": "markdown",
      "source": [
        "Here, the 1D array arr1d is broadcast across the columns, and the 2D array arr2d is broadcast along the rows. This allows element-wise operations across arrays of different shapes."
      ],
      "metadata": {
        "id": "tLtRlDPSIDme"
      }
    },
    {
      "cell_type": "markdown",
      "source": [
        "**How Vectorization and Broadcasting Improve Efficiency:**\n",
        "\n",
        "1. Avoiding Loops:\n",
        "\n",
        "Both vectorization and broadcasting eliminate the need for explicit Python loops, which are slow due to Python’s dynamic typing and interpreter overhead. By relying on C-level operations, NumPy performs operations much faster.\n",
        "\n",
        "2. Memory Efficiency:\n",
        "\n",
        "Broadcasting allows operations on arrays of different shapes without creating unnecessary copies of arrays in memory. The smaller array is conceptually expanded to match the size of the larger array without actual duplication.\n",
        "\n",
        "3. Parallelization:\n",
        "\n",
        "Vectorized operations can take advantage of modern CPU architectures, which allow parallel processing and SIMD (Single Instruction Multiple Data) optimizations. This further accelerates computations.\n",
        "\n",
        "4. Simplified Code:\n",
        "\n",
        "Both vectorization and broadcasting make the code more concise, readable, and easier to write. Complex operations can be expressed in fewer lines of code without sacrificing performance."
      ],
      "metadata": {
        "id": "eb6dS5BUIGpE"
      }
    },
    {
      "cell_type": "markdown",
      "source": [
        "# **Numpy Practical Questions**\n",
        "\n",
        "#Q.1. Create a 3x3 NumPy array with random integers between 1 and 100. Then, interchange its rows and columns.\n",
        "\n",
        "\n"
      ],
      "metadata": {
        "id": "SE9UvzgztScN"
      }
    },
    {
      "cell_type": "code",
      "source": [
        "import numpy as np\n",
        "\n",
        "# Create a 3x3 array with random integers between 1 and 100\n",
        "array = np.random.randint(1, 101, size=(3, 3))\n",
        "print(\"Original Array:\")\n",
        "print(array)\n",
        "\n",
        "# Interchange rows and columns (transpose the array)\n",
        "transposed_array = array.T\n",
        "print(\"\\nTransposed Array:\")\n",
        "print(transposed_array)"
      ],
      "metadata": {
        "colab": {
          "base_uri": "https://localhost:8080/"
        },
        "id": "CN14UkArtspb",
        "outputId": "56e6bc93-2d4f-4a8d-c49f-71343367b45e"
      },
      "execution_count": 1,
      "outputs": [
        {
          "output_type": "stream",
          "name": "stdout",
          "text": [
            "Original Array:\n",
            "[[43 76  5]\n",
            " [63 20 85]\n",
            " [81 45 92]]\n",
            "\n",
            "Transposed Array:\n",
            "[[43 63 81]\n",
            " [76 20 45]\n",
            " [ 5 85 92]]\n"
          ]
        }
      ]
    },
    {
      "cell_type": "markdown",
      "source": [
        "#Q. 2. Generate a ID NumPy array with 10 elements. Reshape it into a 2x5 array, then into a 5x2 array."
      ],
      "metadata": {
        "id": "z4_WWcXhuH20"
      }
    },
    {
      "cell_type": "code",
      "source": [
        "import numpy as np\n",
        "\n",
        "# Create a 1D array with 10 elements\n",
        "array = np.arange(10)\n",
        "print(\"Original Array:\")\n",
        "print(array)\n",
        "\n",
        "# Reshape the array into a 2x5 array\n",
        "array_2x5 = array.reshape(2, 5)\n",
        "print(\"\\nReshaped to 2x5 Array:\")\n",
        "print(array_2x5)\n",
        "\n",
        "# Reshape the array into a 5x2 array\n",
        "array_5x2 = array.reshape(5, 2)\n",
        "print(\"\\nReshaped to 5x2 Array:\")\n",
        "print(array_5x2)"
      ],
      "metadata": {
        "colab": {
          "base_uri": "https://localhost:8080/"
        },
        "id": "ts1NEr4YttkM",
        "outputId": "c59015cf-9282-4794-e307-4ea71ea00fcb"
      },
      "execution_count": 2,
      "outputs": [
        {
          "output_type": "stream",
          "name": "stdout",
          "text": [
            "Original Array:\n",
            "[0 1 2 3 4 5 6 7 8 9]\n",
            "\n",
            "Reshaped to 2x5 Array:\n",
            "[[0 1 2 3 4]\n",
            " [5 6 7 8 9]]\n",
            "\n",
            "Reshaped to 5x2 Array:\n",
            "[[0 1]\n",
            " [2 3]\n",
            " [4 5]\n",
            " [6 7]\n",
            " [8 9]]\n"
          ]
        }
      ]
    },
    {
      "cell_type": "markdown",
      "source": [
        "#Q. 3. Create a 4x4 NumPy array with random float values. Add a border of zeros around it, resulting in a 6x6 array."
      ],
      "metadata": {
        "id": "dI1D_JKwuS8h"
      }
    },
    {
      "cell_type": "code",
      "source": [
        "import numpy as np\n",
        "\n",
        "# Create a 4x4 array with random float values\n",
        "array = np.random.rand(4, 4)\n",
        "print(\"Original 4x4 Array:\")\n",
        "print(array)\n",
        "\n",
        "# Add a border of zeros around the array\n",
        "array_with_border = np.pad(array, pad_width=1, mode='constant', constant_values=0)\n",
        "print(\"\\nArray with Border (6x6):\")\n",
        "print(array_with_border)"
      ],
      "metadata": {
        "colab": {
          "base_uri": "https://localhost:8080/"
        },
        "id": "fgtrp0w9uR6r",
        "outputId": "35bf6dde-7259-4133-a421-509587a8ccfc"
      },
      "execution_count": 3,
      "outputs": [
        {
          "output_type": "stream",
          "name": "stdout",
          "text": [
            "Original 4x4 Array:\n",
            "[[0.02379404 0.0931939  0.21703748 0.72599264]\n",
            " [0.47545663 0.24088575 0.7410125  0.63043854]\n",
            " [0.98766601 0.58346433 0.7375207  0.9945779 ]\n",
            " [0.42021703 0.61888133 0.4045003  0.28162039]]\n",
            "\n",
            "Array with Border (6x6):\n",
            "[[0.         0.         0.         0.         0.         0.        ]\n",
            " [0.         0.02379404 0.0931939  0.21703748 0.72599264 0.        ]\n",
            " [0.         0.47545663 0.24088575 0.7410125  0.63043854 0.        ]\n",
            " [0.         0.98766601 0.58346433 0.7375207  0.9945779  0.        ]\n",
            " [0.         0.42021703 0.61888133 0.4045003  0.28162039 0.        ]\n",
            " [0.         0.         0.         0.         0.         0.        ]]\n"
          ]
        }
      ]
    },
    {
      "cell_type": "markdown",
      "source": [
        "#Q. 4. Using NumPy, create an array of integers from 10 to 60 with a step of 5.\n"
      ],
      "metadata": {
        "id": "h9psieg3ut1q"
      }
    },
    {
      "cell_type": "code",
      "source": [
        "import numpy as np\n",
        "\n",
        "# Create an array of integers from 10 to 60 with a step of 5\n",
        "array = np.arange(10, 61, 5)\n",
        "print(\"Array with integers from 10 to 60 with a step of 5:\")\n",
        "print(array)"
      ],
      "metadata": {
        "colab": {
          "base_uri": "https://localhost:8080/"
        },
        "id": "ttuzE3bSuqBS",
        "outputId": "ebcd60bf-b2c7-47ce-8356-2fdefd77d2cf"
      },
      "execution_count": 4,
      "outputs": [
        {
          "output_type": "stream",
          "name": "stdout",
          "text": [
            "Array with integers from 10 to 60 with a step of 5:\n",
            "[10 15 20 25 30 35 40 45 50 55 60]\n"
          ]
        }
      ]
    },
    {
      "cell_type": "markdown",
      "source": [
        "#Q. 5. Create a NumPy array of strings ['python, 'numpy, pandas']. Apply different case transformations\n",
        "(uppercase, lowercase, title case, etc.) to each element.\n"
      ],
      "metadata": {
        "id": "rE30oN3Ku51b"
      }
    },
    {
      "cell_type": "code",
      "source": [
        "import numpy as np\n",
        "\n",
        "# Create a NumPy array of strings\n",
        "array = np.array(['python', 'numpy', 'pandas'])\n",
        "print(\"Original Array:\")\n",
        "print(array)\n",
        "\n",
        "# Convert to uppercase\n",
        "upper_array = np.char.upper(array)\n",
        "print(\"\\nUppercase Array:\")\n",
        "print(upper_array)\n",
        "\n",
        "# Convert to lowercase\n",
        "lower_array = np.char.lower(array)\n",
        "print(\"\\nLowercase Array:\")\n",
        "print(lower_array)\n",
        "\n",
        "# Swap case\n",
        "swapcase_array = np.char.swapcase(array)\n",
        "print(\"\\nSwapcase Array:\")\n",
        "print(swapcase_array)\n",
        "\n",
        "# Capitalize each string\n",
        "capitalize_array = np.char.capitalize(array)\n",
        "print(\"\\nCapitalized Array:\")\n",
        "print(capitalize_array)\n",
        "\n",
        "# Title case each string\n",
        "title_array = np.char.title(array)\n",
        "print(\"\\nTitle Case Array:\")\n",
        "print(title_array)"
      ],
      "metadata": {
        "colab": {
          "base_uri": "https://localhost:8080/"
        },
        "id": "8piRXmUsu26j",
        "outputId": "aa5e9de2-fa39-4478-d635-b29b42ac0f28"
      },
      "execution_count": 5,
      "outputs": [
        {
          "output_type": "stream",
          "name": "stdout",
          "text": [
            "Original Array:\n",
            "['python' 'numpy' 'pandas']\n",
            "\n",
            "Uppercase Array:\n",
            "['PYTHON' 'NUMPY' 'PANDAS']\n",
            "\n",
            "Lowercase Array:\n",
            "['python' 'numpy' 'pandas']\n",
            "\n",
            "Swapcase Array:\n",
            "['PYTHON' 'NUMPY' 'PANDAS']\n",
            "\n",
            "Capitalized Array:\n",
            "['Python' 'Numpy' 'Pandas']\n",
            "\n",
            "Title Case Array:\n",
            "['Python' 'Numpy' 'Pandas']\n"
          ]
        }
      ]
    },
    {
      "cell_type": "markdown",
      "source": [
        "#Q. 6. Generate a NumPy array of words. Insert a space between each character of every word in the array.\n"
      ],
      "metadata": {
        "id": "9xDAZIEOvNaj"
      }
    },
    {
      "cell_type": "code",
      "source": [
        "import numpy as np\n",
        "\n",
        "# Create a NumPy array of words\n",
        "words = np.array(['python', 'numpy', 'pandas'])\n",
        "print(\"Original Array:\")\n",
        "print(words)\n",
        "\n",
        "# Insert a space between each character of every word\n",
        "spaced_words = np.char.join(' ', words)\n",
        "print(\"\\nArray with spaces between characters:\")\n",
        "print(spaced_words)"
      ],
      "metadata": {
        "colab": {
          "base_uri": "https://localhost:8080/"
        },
        "id": "7PZEyuMGvFRb",
        "outputId": "e59ae7d6-6658-4f4b-cc15-a0aab624090c"
      },
      "execution_count": 6,
      "outputs": [
        {
          "output_type": "stream",
          "name": "stdout",
          "text": [
            "Original Array:\n",
            "['python' 'numpy' 'pandas']\n",
            "\n",
            "Array with spaces between characters:\n",
            "['p y t h o n' 'n u m p y' 'p a n d a s']\n"
          ]
        }
      ]
    },
    {
      "cell_type": "markdown",
      "source": [
        "#Q. 7. Create two 2D NumPy arrays and perform element-wise addition, subtraction, multiplication, and division.\n"
      ],
      "metadata": {
        "id": "3QQHTJ2LvieW"
      }
    },
    {
      "cell_type": "code",
      "source": [
        "import numpy as np\n",
        "\n",
        "# Create two 2D arrays\n",
        "array1 = np.array([[1, 2, 3], [4, 5, 6]])\n",
        "array2 = np.array([[7, 8, 9], [10, 11, 12]])\n",
        "\n",
        "print(\"Array 1:\")\n",
        "print(array1)\n",
        "\n",
        "print(\"\\nArray 2:\")\n",
        "print(array2)\n",
        "\n",
        "# Element-wise addition\n",
        "addition = np.add(array1, array2)\n",
        "print(\"\\nElement-wise Addition:\")\n",
        "print(addition)\n",
        "\n",
        "# Element-wise subtraction\n",
        "subtraction = np.subtract(array1, array2)\n",
        "print(\"\\nElement-wise Subtraction:\")\n",
        "print(subtraction)\n",
        "\n",
        "# Element-wise multiplication\n",
        "multiplication = np.multiply(array1, array2)\n",
        "print(\"\\nElement-wise Multiplication:\")\n",
        "print(multiplication)\n",
        "\n",
        "# Element-wise division\n",
        "division = np.divide(array1, array2)\n",
        "print(\"\\nElement-wise Division:\")\n",
        "print(division)"
      ],
      "metadata": {
        "colab": {
          "base_uri": "https://localhost:8080/"
        },
        "id": "3hkYvIkyvelz",
        "outputId": "ef0a05b0-4b71-46da-8c69-e77e83bc6160"
      },
      "execution_count": 7,
      "outputs": [
        {
          "output_type": "stream",
          "name": "stdout",
          "text": [
            "Array 1:\n",
            "[[1 2 3]\n",
            " [4 5 6]]\n",
            "\n",
            "Array 2:\n",
            "[[ 7  8  9]\n",
            " [10 11 12]]\n",
            "\n",
            "Element-wise Addition:\n",
            "[[ 8 10 12]\n",
            " [14 16 18]]\n",
            "\n",
            "Element-wise Subtraction:\n",
            "[[-6 -6 -6]\n",
            " [-6 -6 -6]]\n",
            "\n",
            "Element-wise Multiplication:\n",
            "[[ 7 16 27]\n",
            " [40 55 72]]\n",
            "\n",
            "Element-wise Division:\n",
            "[[0.14285714 0.25       0.33333333]\n",
            " [0.4        0.45454545 0.5       ]]\n"
          ]
        }
      ]
    },
    {
      "cell_type": "markdown",
      "source": [
        "# 8. Use NumPy to create a 5x5 identity matrix, then extract its diagonal elements."
      ],
      "metadata": {
        "id": "zVkwEXaGvwtV"
      }
    },
    {
      "cell_type": "code",
      "source": [
        "import numpy as np\n",
        "\n",
        "# Create a 5x5 identity matrix\n",
        "identity_matrix = np.identity(5)\n",
        "print(\"5x5 Identity Matrix:\")\n",
        "print(identity_matrix)\n",
        "\n",
        "# Extract the diagonal elements\n",
        "diagonal_elements = np.diag(identity_matrix)\n",
        "print(\"\\nDiagonal Elements:\")\n",
        "print(diagonal_elements)"
      ],
      "metadata": {
        "colab": {
          "base_uri": "https://localhost:8080/"
        },
        "id": "PtrllQy_vsBC",
        "outputId": "2393e743-de87-48d0-c76e-9dffa6c9d784"
      },
      "execution_count": 8,
      "outputs": [
        {
          "output_type": "stream",
          "name": "stdout",
          "text": [
            "5x5 Identity Matrix:\n",
            "[[1. 0. 0. 0. 0.]\n",
            " [0. 1. 0. 0. 0.]\n",
            " [0. 0. 1. 0. 0.]\n",
            " [0. 0. 0. 1. 0.]\n",
            " [0. 0. 0. 0. 1.]]\n",
            "\n",
            "Diagonal Elements:\n",
            "[1. 1. 1. 1. 1.]\n"
          ]
        }
      ]
    },
    {
      "cell_type": "markdown",
      "source": [
        "# 9. Generate a NumPy array of 100 random integers between 0 and 1000. Find and display all prime numbers in this array."
      ],
      "metadata": {
        "id": "XasKXIApv6tM"
      }
    },
    {
      "cell_type": "code",
      "source": [
        "import numpy as np\n",
        "\n",
        "# Function to check if a number is prime\n",
        "def is_prime(n):\n",
        "    if n <= 1:\n",
        "        return False\n",
        "    for i in range(2, int(np.sqrt(n)) + 1):\n",
        "        if n % i == 0:\n",
        "            return False\n",
        "    return True\n",
        "\n",
        "# Generate a NumPy array of 100 random integers between 0 and 1000\n",
        "random_array = np.random.randint(0, 1001, size=100)\n",
        "print(\"Random Array:\")\n",
        "print(random_array)\n",
        "\n",
        "# Find all prime numbers in the array\n",
        "prime_numbers = [num for num in random_array if is_prime(num)]\n",
        "print(\"\\nPrime Numbers in the Array:\")\n",
        "print(prime_numbers)"
      ],
      "metadata": {
        "colab": {
          "base_uri": "https://localhost:8080/"
        },
        "id": "kJX7Z56Pv3oS",
        "outputId": "b939283c-efca-4c45-b814-6ca9201f8cdc"
      },
      "execution_count": 9,
      "outputs": [
        {
          "output_type": "stream",
          "name": "stdout",
          "text": [
            "Random Array:\n",
            "[904 428 658 187  37 179 556 478 102 920 925 196 507  91 160 493  68 591\n",
            " 829 756 654 133 853 419 853 709 250  77 904 816 233 845 437 448 454 373\n",
            "  59  58 764 200 272 432  56 138 429 191 413  12 592  73 106 880 428 874\n",
            " 204 212 126 348 700 822 695 796 112 721 938 372 657  85 735  15 644 223\n",
            " 704 801 279 149 568 190 509 669 242 223 983 880 493 120 977  76 292 211\n",
            " 679 182 846 806 613 933 844 888 619 632]\n",
            "\n",
            "Prime Numbers in the Array:\n",
            "[37, 179, 829, 853, 419, 853, 709, 233, 373, 59, 191, 73, 223, 149, 509, 223, 983, 977, 211, 613, 619]\n"
          ]
        }
      ]
    },
    {
      "cell_type": "markdown",
      "source": [
        "# 10. Create a NumPy array representing daily temperatures for a month. Calculate and display the weekly averages."
      ],
      "metadata": {
        "id": "7asHvE0GwI5E"
      }
    },
    {
      "cell_type": "code",
      "source": [
        "import numpy as np\n",
        "\n",
        "# Create a NumPy array representing daily temperatures for a 30-day month\n",
        "temperatures = np.random.randint(15, 35, size=30)  # Random temperatures between 15°C and 35°C\n",
        "\n",
        "# Calculate the weekly averages\n",
        "weekly_averages = np.array([temperatures[i:i+7].mean() for i in range(0, len(temperatures), 7)])\n",
        "\n",
        "temperatures, weekly_averages"
      ],
      "metadata": {
        "colab": {
          "base_uri": "https://localhost:8080/"
        },
        "id": "4dGNkw2IxC5_",
        "outputId": "e6eb1805-4ac9-46f8-a3a8-dd76500dd55d"
      },
      "execution_count": 13,
      "outputs": [
        {
          "output_type": "execute_result",
          "data": {
            "text/plain": [
              "(array([26, 32, 22, 19, 28, 22, 34, 21, 31, 29, 24, 29, 21, 29, 29, 19, 20,\n",
              "        20, 16, 25, 18, 22, 22, 34, 26, 16, 24, 29, 25, 33]),\n",
              " array([26.14285714, 26.28571429, 21.        , 24.71428571, 29.        ]))"
            ]
          },
          "metadata": {},
          "execution_count": 13
        }
      ]
    }
  ]
}